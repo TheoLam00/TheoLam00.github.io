{
  "nbformat": 4,
  "nbformat_minor": 0,
  "metadata": {
    "colab": {
      "provenance": [],
      "authorship_tag": "ABX9TyN+AiXSEE7vU3nghR9sOijw",
      "include_colab_link": true
    },
    "kernelspec": {
      "name": "python3",
      "display_name": "Python 3"
    },
    "language_info": {
      "name": "python"
    }
  },
  "cells": [
    {
      "cell_type": "markdown",
      "metadata": {
        "id": "view-in-github",
        "colab_type": "text"
      },
      "source": [
        "<a href=\"https://colab.research.google.com/github/TheoLam00/TheoLam00.github.io/blob/main/project/taxRate/taxRate.ipynb\" target=\"_parent\"><img src=\"https://colab.research.google.com/assets/colab-badge.svg\" alt=\"Open In Colab\"/></a>"
      ]
    },
    {
      "cell_type": "code",
      "execution_count": 1,
      "metadata": {
        "id": "ScKmHrUhdUXV"
      },
      "outputs": [],
      "source": [
        "import pandas as pd\n",
        "import requests\n",
        "from google.colab import files\n",
        "import io"
      ]
    },
    {
      "cell_type": "code",
      "source": [
        "income_url = \"https://raw.githubusercontent.com/TheoLam00/TheoLam00.github.io/refs/heads/main/project/taxRate/Fred-totalPersonalIncome.csv\"\n",
        "tax_url = \"https://raw.githubusercontent.com/TheoLam00/TheoLam00.github.io/refs/heads/main/project/taxRate/Fred-totalTax.csv\"\n",
        "income_df = requests.get(income_url).content\n",
        "income_df = pd.read_csv(io.StringIO(income_df.decode('utf-8')))\n",
        "income_df = income_df[['date','value','state']]\n",
        "tax_df = requests.get(tax_url).content\n",
        "tax_df = pd.read_csv(io.StringIO(tax_df.decode('utf-8')))\n",
        "tax_df = tax_df[['date','value','state']]"
      ],
      "metadata": {
        "id": "gMttkZtDeA3Q"
      },
      "execution_count": 12,
      "outputs": []
    },
    {
      "cell_type": "code",
      "source": [
        "#clean data to match year and drop na\n",
        "#drop data before 1976 to match other data\n",
        "income_df = income_df[income_df['date'].str.slice(6,7)=='1']\n",
        "income_df['date'] = income_df['date'].str.slice(0,4)\n",
        "income_df['date'] = pd.to_numeric(income_df.date)\n",
        "income_df = income_df.rename(columns={'date':'year'})\n",
        "income_df = income_df[income_df['year']>1975]\n",
        "income_df = income_df.fillna(0)\n",
        "\n",
        "tax_df['date'] = tax_df['date'].str.slice(0,4)\n",
        "tax_df['date'] = pd.to_numeric(tax_df.date)\n",
        "tax_df = tax_df.rename(columns={'date':'year'})\n",
        "tax_df = tax_df[tax_df['year']>1975]\n",
        "tax_df = tax_df.fillna(0)"
      ],
      "metadata": {
        "id": "kAJlx8VDe0oY",
        "outputId": "d24a67bc-25d6-45cf-a6b6-2a67d1c0c9a9",
        "colab": {
          "base_uri": "https://localhost:8080/"
        }
      },
      "execution_count": 14,
      "outputs": [
        {
          "output_type": "stream",
          "name": "stderr",
          "text": [
            "<ipython-input-14-062d6ae3b7b5>:4: SettingWithCopyWarning: \n",
            "A value is trying to be set on a copy of a slice from a DataFrame.\n",
            "Try using .loc[row_indexer,col_indexer] = value instead\n",
            "\n",
            "See the caveats in the documentation: https://pandas.pydata.org/pandas-docs/stable/user_guide/indexing.html#returning-a-view-versus-a-copy\n",
            "  income_df['date'] = income_df['date'].str.slice(0,4)\n",
            "<ipython-input-14-062d6ae3b7b5>:5: SettingWithCopyWarning: \n",
            "A value is trying to be set on a copy of a slice from a DataFrame.\n",
            "Try using .loc[row_indexer,col_indexer] = value instead\n",
            "\n",
            "See the caveats in the documentation: https://pandas.pydata.org/pandas-docs/stable/user_guide/indexing.html#returning-a-view-versus-a-copy\n",
            "  income_df['date'] = pd.to_numeric(income_df.date)\n"
          ]
        }
      ]
    },
    {
      "cell_type": "code",
      "source": [
        "income_df['value'] = pd.to_numeric(income_df.value)\n",
        "tax_df['value'] = pd.to_numeric(tax_df.value)\n",
        "income_df['incomeTaxRatio'] = (tax_df['value']/income_df['value'])*100"
      ],
      "metadata": {
        "id": "uemYpMG-ijcl"
      },
      "execution_count": 16,
      "outputs": []
    },
    {
      "cell_type": "code",
      "source": [
        "income_df = income_df[['year','state','incomeTaxRatio']]"
      ],
      "metadata": {
        "id": "34xYsBF4k_Jd"
      },
      "execution_count": 17,
      "outputs": []
    },
    {
      "cell_type": "code",
      "source": [
        "income_df = income_df.dropna()"
      ],
      "metadata": {
        "id": "7QS8DVNklM7A"
      },
      "execution_count": 20,
      "outputs": []
    },
    {
      "cell_type": "code",
      "source": [
        "fileName = \"taxRate.csv\"\n",
        "income_df.to_csv(fileName)\n",
        "files.download(fileName)"
      ],
      "metadata": {
        "id": "7Qfa11Svlqhu",
        "outputId": "5c860fc1-a8f6-4eb4-853a-11e529c7c621",
        "colab": {
          "base_uri": "https://localhost:8080/",
          "height": 17
        }
      },
      "execution_count": 22,
      "outputs": [
        {
          "output_type": "display_data",
          "data": {
            "text/plain": [
              "<IPython.core.display.Javascript object>"
            ],
            "application/javascript": [
              "\n",
              "    async function download(id, filename, size) {\n",
              "      if (!google.colab.kernel.accessAllowed) {\n",
              "        return;\n",
              "      }\n",
              "      const div = document.createElement('div');\n",
              "      const label = document.createElement('label');\n",
              "      label.textContent = `Downloading \"${filename}\": `;\n",
              "      div.appendChild(label);\n",
              "      const progress = document.createElement('progress');\n",
              "      progress.max = size;\n",
              "      div.appendChild(progress);\n",
              "      document.body.appendChild(div);\n",
              "\n",
              "      const buffers = [];\n",
              "      let downloaded = 0;\n",
              "\n",
              "      const channel = await google.colab.kernel.comms.open(id);\n",
              "      // Send a message to notify the kernel that we're ready.\n",
              "      channel.send({})\n",
              "\n",
              "      for await (const message of channel.messages) {\n",
              "        // Send a message to notify the kernel that we're ready.\n",
              "        channel.send({})\n",
              "        if (message.buffers) {\n",
              "          for (const buffer of message.buffers) {\n",
              "            buffers.push(buffer);\n",
              "            downloaded += buffer.byteLength;\n",
              "            progress.value = downloaded;\n",
              "          }\n",
              "        }\n",
              "      }\n",
              "      const blob = new Blob(buffers, {type: 'application/binary'});\n",
              "      const a = document.createElement('a');\n",
              "      a.href = window.URL.createObjectURL(blob);\n",
              "      a.download = filename;\n",
              "      div.appendChild(a);\n",
              "      a.click();\n",
              "      div.remove();\n",
              "    }\n",
              "  "
            ]
          },
          "metadata": {}
        },
        {
          "output_type": "display_data",
          "data": {
            "text/plain": [
              "<IPython.core.display.Javascript object>"
            ],
            "application/javascript": [
              "download(\"download_b9ca02e0-6168-4b64-ad71-1d32d4d2e867\", \"taxRate.csv\", 13953)"
            ]
          },
          "metadata": {}
        }
      ]
    }
  ]
}