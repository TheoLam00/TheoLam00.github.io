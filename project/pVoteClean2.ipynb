{
  "nbformat": 4,
  "nbformat_minor": 0,
  "metadata": {
    "colab": {
      "provenance": [],
      "authorship_tag": "ABX9TyNeadH/T27ws3NBXzItHZY1",
      "include_colab_link": true
    },
    "kernelspec": {
      "name": "python3",
      "display_name": "Python 3"
    },
    "language_info": {
      "name": "python"
    }
  },
  "cells": [
    {
      "cell_type": "markdown",
      "metadata": {
        "id": "view-in-github",
        "colab_type": "text"
      },
      "source": [
        "<a href=\"https://colab.research.google.com/github/TheoLam00/TheoLam00.github.io/blob/main/project/pVoteClean2.ipynb\" target=\"_parent\"><img src=\"https://colab.research.google.com/assets/colab-badge.svg\" alt=\"Open In Colab\"/></a>"
      ]
    },
    {
      "cell_type": "code",
      "execution_count": 52,
      "metadata": {
        "id": "P8CNaixFBD9P"
      },
      "outputs": [],
      "source": [
        "import pandas as pd\n",
        "import requests\n",
        "import csv\n",
        "from google.colab import files"
      ]
    },
    {
      "cell_type": "code",
      "source": [
        "import io\n",
        "url = \"https://raw.githubusercontent.com/TheoLam00/TheoLam00.github.io/refs/heads/main/project/1976-2020-president.csv\"\n",
        "data = requests.get(url).content\n",
        "data = pd.read_csv(io.StringIO(data.decode('utf-8')))"
      ],
      "metadata": {
        "id": "3fHfkb2MBbrN"
      },
      "execution_count": 53,
      "outputs": []
    },
    {
      "cell_type": "code",
      "source": [
        "data = data[['year','state','candidatevotes','totalvotes','party_simplified']]"
      ],
      "metadata": {
        "id": "jQGTi02VBcql"
      },
      "execution_count": 54,
      "outputs": []
    },
    {
      "cell_type": "code",
      "source": [
        "data = data[data['party_simplified']=='DEMOCRAT']"
      ],
      "metadata": {
        "id": "-QHsPLVtBlWW"
      },
      "execution_count": 55,
      "outputs": []
    },
    {
      "cell_type": "code",
      "source": [
        "data['demRatio'] = data['candidatevotes']/data['totalvotes']\n",
        "data = data[['year','state','demRatio']]\n",
        "#delete duplicate when more than one dem canadiate\n",
        "data = data.loc[data.groupby(['year','state'])['demRatio'].idxmax()]"
      ],
      "metadata": {
        "id": "AVgAeZiMBy5T"
      },
      "execution_count": 56,
      "outputs": []
    },
    {
      "cell_type": "code",
      "source": [
        "#state name to title\n",
        "data['state'] = data['state'].str.title()\n",
        "#rename District of Columbia 'of' to lowercase\n",
        "data['state'] = data['state'].str.replace('Of', 'of')"
      ],
      "metadata": {
        "id": "hlQKVZPpKJY1"
      },
      "execution_count": 57,
      "outputs": []
    },
    {
      "cell_type": "code",
      "source": [
        "data = data.pivot(index='year', columns='state', values='demRatio')"
      ],
      "metadata": {
        "id": "a32qieUvELA_"
      },
      "execution_count": 59,
      "outputs": []
    },
    {
      "cell_type": "code",
      "source": [
        "#download file\n",
        "fileName = 'pVoteDemRatio.csv'\n",
        "data.to_csv(fileName)\n",
        "files.download(fileName)"
      ],
      "metadata": {
        "id": "SCNozz-xDg6l",
        "outputId": "a3202f84-104e-4b29-f4ec-a72cbb17b15f",
        "colab": {
          "base_uri": "https://localhost:8080/",
          "height": 17
        }
      },
      "execution_count": 60,
      "outputs": [
        {
          "output_type": "display_data",
          "data": {
            "text/plain": [
              "<IPython.core.display.Javascript object>"
            ],
            "application/javascript": [
              "\n",
              "    async function download(id, filename, size) {\n",
              "      if (!google.colab.kernel.accessAllowed) {\n",
              "        return;\n",
              "      }\n",
              "      const div = document.createElement('div');\n",
              "      const label = document.createElement('label');\n",
              "      label.textContent = `Downloading \"${filename}\": `;\n",
              "      div.appendChild(label);\n",
              "      const progress = document.createElement('progress');\n",
              "      progress.max = size;\n",
              "      div.appendChild(progress);\n",
              "      document.body.appendChild(div);\n",
              "\n",
              "      const buffers = [];\n",
              "      let downloaded = 0;\n",
              "\n",
              "      const channel = await google.colab.kernel.comms.open(id);\n",
              "      // Send a message to notify the kernel that we're ready.\n",
              "      channel.send({})\n",
              "\n",
              "      for await (const message of channel.messages) {\n",
              "        // Send a message to notify the kernel that we're ready.\n",
              "        channel.send({})\n",
              "        if (message.buffers) {\n",
              "          for (const buffer of message.buffers) {\n",
              "            buffers.push(buffer);\n",
              "            downloaded += buffer.byteLength;\n",
              "            progress.value = downloaded;\n",
              "          }\n",
              "        }\n",
              "      }\n",
              "      const blob = new Blob(buffers, {type: 'application/binary'});\n",
              "      const a = document.createElement('a');\n",
              "      a.href = window.URL.createObjectURL(blob);\n",
              "      a.download = filename;\n",
              "      div.appendChild(a);\n",
              "      a.click();\n",
              "      div.remove();\n",
              "    }\n",
              "  "
            ]
          },
          "metadata": {}
        },
        {
          "output_type": "display_data",
          "data": {
            "text/plain": [
              "<IPython.core.display.Javascript object>"
            ],
            "application/javascript": [
              "download(\"download_e5db9ccc-dfb4-4a5c-a875-455c1932b28e\", \"pVoteDemRatio.csv\", 12351)"
            ]
          },
          "metadata": {}
        }
      ]
    }
  ]
}