{
  "nbformat": 4,
  "nbformat_minor": 0,
  "metadata": {
    "colab": {
      "provenance": [],
      "authorship_tag": "ABX9TyOn/Y94IE4N2eii8G2PUifn",
      "include_colab_link": true
    },
    "kernelspec": {
      "name": "python3",
      "display_name": "Python 3"
    },
    "language_info": {
      "name": "python"
    }
  },
  "cells": [
    {
      "cell_type": "markdown",
      "metadata": {
        "id": "view-in-github",
        "colab_type": "text"
      },
      "source": [
        "<a href=\"https://colab.research.google.com/github/TheoLam00/TheoLam00.github.io/blob/main/project/pVoteClean2.ipynb\" target=\"_parent\"><img src=\"https://colab.research.google.com/assets/colab-badge.svg\" alt=\"Open In Colab\"/></a>"
      ]
    },
    {
      "cell_type": "code",
      "execution_count": 1,
      "metadata": {
        "id": "P8CNaixFBD9P"
      },
      "outputs": [],
      "source": [
        "import pandas as pd\n",
        "import requests\n",
        "import csv\n",
        "from google.colab import files"
      ]
    },
    {
      "cell_type": "code",
      "source": [
        "import io\n",
        "url = \"https://raw.githubusercontent.com/TheoLam00/TheoLam00.github.io/refs/heads/main/project/1976-2020-president.csv\"\n",
        "data = requests.get(url).content\n",
        "data = pd.read_csv(io.StringIO(data.decode('utf-8')))"
      ],
      "metadata": {
        "id": "3fHfkb2MBbrN"
      },
      "execution_count": 27,
      "outputs": []
    },
    {
      "cell_type": "code",
      "source": [
        "data = data[['year','state','candidatevotes','totalvotes','party_simplified']]"
      ],
      "metadata": {
        "id": "jQGTi02VBcql"
      },
      "execution_count": 28,
      "outputs": []
    },
    {
      "cell_type": "code",
      "source": [
        "data = data[(data['party_simplified']=='DEMOCRAT') | (data['party_simplified']=='REPUBLICAN')]"
      ],
      "metadata": {
        "id": "-QHsPLVtBlWW"
      },
      "execution_count": 29,
      "outputs": []
    },
    {
      "cell_type": "code",
      "source": [
        "#delete duplicate when more than one dem or rep canadiate\n",
        "data = data.loc[data.groupby(['year','state','party_simplified'])['candidatevotes'].idxmax()]"
      ],
      "metadata": {
        "id": "onDOaQYn0XLG"
      },
      "execution_count": 30,
      "outputs": []
    },
    {
      "cell_type": "code",
      "source": [
        "data['total'] = data.groupby(['year','state'])['candidatevotes'].transform('sum')"
      ],
      "metadata": {
        "id": "UrFVPVXG06xU"
      },
      "execution_count": 31,
      "outputs": []
    },
    {
      "cell_type": "code",
      "source": [
        "data = data[data['party_simplified']=='DEMOCRAT']\n",
        "data['demRatio'] = data['candidatevotes']/data['total']\n",
        "data = data[['year','state','demRatio']]"
      ],
      "metadata": {
        "id": "AVgAeZiMBy5T",
        "outputId": "ee7649bc-41c5-4c03-f408-a4d1c87dafa5",
        "colab": {
          "base_uri": "https://localhost:8080/"
        }
      },
      "execution_count": 32,
      "outputs": [
        {
          "output_type": "stream",
          "name": "stderr",
          "text": [
            "<ipython-input-32-2239846d94ed>:2: SettingWithCopyWarning: \n",
            "A value is trying to be set on a copy of a slice from a DataFrame.\n",
            "Try using .loc[row_indexer,col_indexer] = value instead\n",
            "\n",
            "See the caveats in the documentation: https://pandas.pydata.org/pandas-docs/stable/user_guide/indexing.html#returning-a-view-versus-a-copy\n",
            "  data['demRatio'] = data['candidatevotes']/data['total']\n"
          ]
        }
      ]
    },
    {
      "cell_type": "code",
      "source": [
        "#state name to title\n",
        "data['state'] = data['state'].str.title()\n",
        "#rename District of Columbia 'of' to lowercase\n",
        "data['state'] = data['state'].str.replace('Of', 'of')"
      ],
      "metadata": {
        "id": "hlQKVZPpKJY1"
      },
      "execution_count": 34,
      "outputs": []
    },
    {
      "cell_type": "code",
      "source": [
        "data = data.pivot(index='year', columns='state', values='demRatio')"
      ],
      "metadata": {
        "id": "a32qieUvELA_"
      },
      "execution_count": 35,
      "outputs": []
    },
    {
      "cell_type": "code",
      "source": [
        "#download file\n",
        "fileName = 'pVoteDemRatio.csv'\n",
        "data.to_csv(fileName)\n",
        "files.download(fileName)"
      ],
      "metadata": {
        "id": "SCNozz-xDg6l",
        "outputId": "5d9b42b9-32ea-416f-ad69-35d86c1889d6",
        "colab": {
          "base_uri": "https://localhost:8080/",
          "height": 17
        }
      },
      "execution_count": 36,
      "outputs": [
        {
          "output_type": "display_data",
          "data": {
            "text/plain": [
              "<IPython.core.display.Javascript object>"
            ],
            "application/javascript": [
              "\n",
              "    async function download(id, filename, size) {\n",
              "      if (!google.colab.kernel.accessAllowed) {\n",
              "        return;\n",
              "      }\n",
              "      const div = document.createElement('div');\n",
              "      const label = document.createElement('label');\n",
              "      label.textContent = `Downloading \"${filename}\": `;\n",
              "      div.appendChild(label);\n",
              "      const progress = document.createElement('progress');\n",
              "      progress.max = size;\n",
              "      div.appendChild(progress);\n",
              "      document.body.appendChild(div);\n",
              "\n",
              "      const buffers = [];\n",
              "      let downloaded = 0;\n",
              "\n",
              "      const channel = await google.colab.kernel.comms.open(id);\n",
              "      // Send a message to notify the kernel that we're ready.\n",
              "      channel.send({})\n",
              "\n",
              "      for await (const message of channel.messages) {\n",
              "        // Send a message to notify the kernel that we're ready.\n",
              "        channel.send({})\n",
              "        if (message.buffers) {\n",
              "          for (const buffer of message.buffers) {\n",
              "            buffers.push(buffer);\n",
              "            downloaded += buffer.byteLength;\n",
              "            progress.value = downloaded;\n",
              "          }\n",
              "        }\n",
              "      }\n",
              "      const blob = new Blob(buffers, {type: 'application/binary'});\n",
              "      const a = document.createElement('a');\n",
              "      a.href = window.URL.createObjectURL(blob);\n",
              "      a.download = filename;\n",
              "      div.appendChild(a);\n",
              "      a.click();\n",
              "      div.remove();\n",
              "    }\n",
              "  "
            ]
          },
          "metadata": {}
        },
        {
          "output_type": "display_data",
          "data": {
            "text/plain": [
              "<IPython.core.display.Javascript object>"
            ],
            "application/javascript": [
              "download(\"download_3b074fcc-4979-448c-81d8-a10de5ac644e\", \"pVoteDemRatio.csv\", 12287)"
            ]
          },
          "metadata": {}
        }
      ]
    }
  ]
}