{
  "nbformat": 4,
  "nbformat_minor": 0,
  "metadata": {
    "colab": {
      "provenance": [],
      "authorship_tag": "ABX9TyNF+0Mi42+JKyVfM9uBoq5Z",
      "include_colab_link": true
    },
    "kernelspec": {
      "name": "python3",
      "display_name": "Python 3"
    },
    "language_info": {
      "name": "python"
    }
  },
  "cells": [
    {
      "cell_type": "markdown",
      "metadata": {
        "id": "view-in-github",
        "colab_type": "text"
      },
      "source": [
        "<a href=\"https://colab.research.google.com/github/TheoLam00/TheoLam00.github.io/blob/main/project/unem%26pVote.ipynb\" target=\"_parent\"><img src=\"https://colab.research.google.com/assets/colab-badge.svg\" alt=\"Open In Colab\"/></a>"
      ]
    },
    {
      "cell_type": "code",
      "execution_count": 1,
      "metadata": {
        "id": "Ek_vXTCc5rEF"
      },
      "outputs": [],
      "source": [
        "import json\n",
        "import pandas as pd\n",
        "import requests"
      ]
    },
    {
      "cell_type": "code",
      "source": [
        "import io\n",
        "umem_url = \"https://raw.githubusercontent.com/TheoLam00/TheoLam00.github.io/refs/heads/main/project/Fred-Unemployment.csv\"\n",
        "pVote_url = \"https://raw.githubusercontent.com/TheoLam00/TheoLam00.github.io/refs/heads/main/project/swingState/pVoteDemRatio-long.csv\"\n",
        "unem_df = requests.get(umem_url).content\n",
        "unem_df = pd.read_csv(io.StringIO(unem_df.decode('utf-8')))\n",
        "pVote_df = requests.get(pVote_url).content\n",
        "pVote_df = pd.read_csv(io.StringIO(pVote_df.decode('utf-8')))"
      ],
      "metadata": {
        "id": "hZtlweYN6wiC"
      },
      "execution_count": 17,
      "outputs": []
    },
    {
      "cell_type": "code",
      "source": [
        "pVote_df['swingIndex'] = abs(pVote_df['demRatio']-0.5)*100\n",
        "pVote_df = pVote_df[['year','state','swingIndex']]"
      ],
      "metadata": {
        "id": "mkhwAPkQ7xoZ"
      },
      "execution_count": 18,
      "outputs": []
    }
  ]
}