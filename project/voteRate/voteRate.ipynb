{
  "nbformat": 4,
  "nbformat_minor": 0,
  "metadata": {
    "colab": {
      "provenance": [],
      "authorship_tag": "ABX9TyOQREy+Uij+b6lCkNRolTYL",
      "include_colab_link": true
    },
    "kernelspec": {
      "name": "python3",
      "display_name": "Python 3"
    },
    "language_info": {
      "name": "python"
    }
  },
  "cells": [
    {
      "cell_type": "markdown",
      "metadata": {
        "id": "view-in-github",
        "colab_type": "text"
      },
      "source": [
        "<a href=\"https://colab.research.google.com/github/TheoLam00/TheoLam00.github.io/blob/main/project/voteRate/voteRate.ipynb\" target=\"_parent\"><img src=\"https://colab.research.google.com/assets/colab-badge.svg\" alt=\"Open In Colab\"/></a>"
      ]
    },
    {
      "cell_type": "code",
      "execution_count": null,
      "metadata": {
        "id": "b2BEu2bWnhJO"
      },
      "outputs": [],
      "source": [
        "import pandas as pd\n",
        "import requests\n",
        "from google.colab import files"
      ]
    },
    {
      "cell_type": "code",
      "source": [
        "rates_url = \"https://raw.githubusercontent.com/TheoLam00/TheoLam00.github.io/refs/heads/main/project/voteRate/voteRate.csv\"\n",
        "rates_df = pd.read_csv(rates_url)\n",
        "votes_url = \"https://raw.githubusercontent.com/TheoLam00/TheoLam00.github.io/refs/heads/main/project/swingState/pVoteDemRatio-long.csv\"\n",
        "votes_df = pd.read_csv(votes_url)"
      ],
      "metadata": {
        "id": "Dk7VxYiAoAt3"
      },
      "execution_count": 60,
      "outputs": []
    },
    {
      "cell_type": "code",
      "source": [
        "#rates to long data\n",
        "rates_df = pd.melt(rates_df, id_vars=['state'], value_vars=['1976','1980','1984','1988','1992','1996','2000','2004','2008','2012','2016','2020'], value_name='voteRate')\n",
        "rates_df['variable'] = rates_df['variable'].astype('int32')"
      ],
      "metadata": {
        "id": "TUAfw3QwoURe"
      },
      "execution_count": 61,
      "outputs": []
    },
    {
      "cell_type": "code",
      "source": [
        "votes_df = votes_df.drop(columns=['Unnamed: 0'])\n",
        "rates_df = rates_df.rename(columns={'variable': 'year'})\n",
        "rates_df = rates_df.merge(votes_df, on=['state', 'year'])\n",
        "rates_df = rates_df.dropna()"
      ],
      "metadata": {
        "id": "EiFhq47zp3pg"
      },
      "execution_count": 62,
      "outputs": []
    },
    {
      "cell_type": "code",
      "source": [
        "rates_df['swingIndex'] = abs(0.5-rates_df['demRatio'])"
      ],
      "metadata": {
        "id": "_VIsGeAct5in"
      },
      "execution_count": 63,
      "outputs": []
    },
    {
      "cell_type": "code",
      "source": [
        "fileName = 'voteRatesCleaned.csv'\n",
        "rates_df.to_csv(fileName)\n",
        "files.download(fileName)"
      ],
      "metadata": {
        "colab": {
          "base_uri": "https://localhost:8080/",
          "height": 17
        },
        "id": "Fl-sf73isfQU",
        "outputId": "27f94f8f-e89f-4449-8f63-5fb789c0ee8d"
      },
      "execution_count": 64,
      "outputs": [
        {
          "output_type": "display_data",
          "data": {
            "text/plain": [
              "<IPython.core.display.Javascript object>"
            ],
            "application/javascript": [
              "\n",
              "    async function download(id, filename, size) {\n",
              "      if (!google.colab.kernel.accessAllowed) {\n",
              "        return;\n",
              "      }\n",
              "      const div = document.createElement('div');\n",
              "      const label = document.createElement('label');\n",
              "      label.textContent = `Downloading \"${filename}\": `;\n",
              "      div.appendChild(label);\n",
              "      const progress = document.createElement('progress');\n",
              "      progress.max = size;\n",
              "      div.appendChild(progress);\n",
              "      document.body.appendChild(div);\n",
              "\n",
              "      const buffers = [];\n",
              "      let downloaded = 0;\n",
              "\n",
              "      const channel = await google.colab.kernel.comms.open(id);\n",
              "      // Send a message to notify the kernel that we're ready.\n",
              "      channel.send({})\n",
              "\n",
              "      for await (const message of channel.messages) {\n",
              "        // Send a message to notify the kernel that we're ready.\n",
              "        channel.send({})\n",
              "        if (message.buffers) {\n",
              "          for (const buffer of message.buffers) {\n",
              "            buffers.push(buffer);\n",
              "            downloaded += buffer.byteLength;\n",
              "            progress.value = downloaded;\n",
              "          }\n",
              "        }\n",
              "      }\n",
              "      const blob = new Blob(buffers, {type: 'application/binary'});\n",
              "      const a = document.createElement('a');\n",
              "      a.href = window.URL.createObjectURL(blob);\n",
              "      a.download = filename;\n",
              "      div.appendChild(a);\n",
              "      a.click();\n",
              "      div.remove();\n",
              "    }\n",
              "  "
            ]
          },
          "metadata": {}
        },
        {
          "output_type": "display_data",
          "data": {
            "text/plain": [
              "<IPython.core.display.Javascript object>"
            ],
            "application/javascript": [
              "download(\"download_907409eb-865e-480a-ac71-2477bca5daa6\", \"voteRatesCleaned.csv\", 35462)"
            ]
          },
          "metadata": {}
        }
      ]
    }
  ]
}