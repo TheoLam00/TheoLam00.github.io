{
  "nbformat": 4,
  "nbformat_minor": 0,
  "metadata": {
    "colab": {
      "provenance": [],
      "authorship_tag": "ABX9TyNrPu7uYu9jM+i8g6ZGz1YJ",
      "include_colab_link": true
    },
    "kernelspec": {
      "name": "python3",
      "display_name": "Python 3"
    },
    "language_info": {
      "name": "python"
    }
  },
  "cells": [
    {
      "cell_type": "markdown",
      "metadata": {
        "id": "view-in-github",
        "colab_type": "text"
      },
      "source": [
        "<a href=\"https://colab.research.google.com/github/TheoLam00/TheoLam00.github.io/blob/main/project/manufactoring/manuRatio.ipynb\" target=\"_parent\"><img src=\"https://colab.research.google.com/assets/colab-badge.svg\" alt=\"Open In Colab\"/></a>"
      ]
    },
    {
      "cell_type": "code",
      "execution_count": 1,
      "metadata": {
        "id": "yHN6wL4CAa9N"
      },
      "outputs": [],
      "source": [
        "import pandas as pd\n",
        "from google.colab import files"
      ]
    },
    {
      "cell_type": "code",
      "source": [
        "manuPop = pd.read_csv('https://raw.githubusercontent.com/TheoLam00/TheoLam00.github.io/refs/heads/main/project/manufactoring/Fred-Manufactoring_Pop.csv')\n",
        "totPop = pd.read_csv('https://raw.githubusercontent.com/TheoLam00/TheoLam00.github.io/refs/heads/main/project/manufactoring/Fred-Population.csv')\n",
        "vote = pd.read_csv('https://raw.githubusercontent.com/TheoLam00/TheoLam00.github.io/refs/heads/main/project/voteRate/voteRatesCleaned.csv')\n",
        "\n",
        "vote = vote.drop(columns=['Unnamed: 0'])\n",
        "manuPop = manuPop.drop(columns=['Unnamed: 0'])\n",
        "totPop = totPop.drop(columns=['Unnamed: 0'])"
      ],
      "metadata": {
        "id": "o_vfzZY2BfRo"
      },
      "execution_count": 9,
      "outputs": []
    },
    {
      "cell_type": "code",
      "source": [
        "#merge df, drop na and calculate manuPop ratio\n",
        "manuPop = manuPop.merge(totPop, on=['date','state'])\n",
        "manuPop['manuRatio'] = manuPop['value_x'] / totPop['value']\n",
        "manuPop = manuPop.dropna()\n",
        "manuPop['year'] = manuPop['date'].str[:4]\n",
        "manuPop = manuPop[['year','state','manuRatio']]"
      ],
      "metadata": {
        "id": "YZeyxCRLCJvQ"
      },
      "execution_count": 12,
      "outputs": []
    },
    {
      "cell_type": "code",
      "source": [
        "manuPop['year'] = manuPop['year'].astype(int)\n",
        "vote['year'] = vote['year'].astype(int)\n",
        "manuPop = manuPop.merge(vote, on=['year','state'])"
      ],
      "metadata": {
        "id": "eGZz5w2qGMgG"
      },
      "execution_count": 15,
      "outputs": []
    },
    {
      "cell_type": "code",
      "source": [
        "#download as csv\n",
        "manuPop.to_csv('claenedManuPop.csv')\n",
        "files.download('claenedManuPop.csv')"
      ],
      "metadata": {
        "colab": {
          "base_uri": "https://localhost:8080/",
          "height": 17
        },
        "id": "Ew94vmJEHWed",
        "outputId": "0e616fba-8da0-49cb-e4fa-a2ef9b96a9a4"
      },
      "execution_count": 17,
      "outputs": [
        {
          "output_type": "display_data",
          "data": {
            "text/plain": [
              "<IPython.core.display.Javascript object>"
            ],
            "application/javascript": [
              "\n",
              "    async function download(id, filename, size) {\n",
              "      if (!google.colab.kernel.accessAllowed) {\n",
              "        return;\n",
              "      }\n",
              "      const div = document.createElement('div');\n",
              "      const label = document.createElement('label');\n",
              "      label.textContent = `Downloading \"${filename}\": `;\n",
              "      div.appendChild(label);\n",
              "      const progress = document.createElement('progress');\n",
              "      progress.max = size;\n",
              "      div.appendChild(progress);\n",
              "      document.body.appendChild(div);\n",
              "\n",
              "      const buffers = [];\n",
              "      let downloaded = 0;\n",
              "\n",
              "      const channel = await google.colab.kernel.comms.open(id);\n",
              "      // Send a message to notify the kernel that we're ready.\n",
              "      channel.send({})\n",
              "\n",
              "      for await (const message of channel.messages) {\n",
              "        // Send a message to notify the kernel that we're ready.\n",
              "        channel.send({})\n",
              "        if (message.buffers) {\n",
              "          for (const buffer of message.buffers) {\n",
              "            buffers.push(buffer);\n",
              "            downloaded += buffer.byteLength;\n",
              "            progress.value = downloaded;\n",
              "          }\n",
              "        }\n",
              "      }\n",
              "      const blob = new Blob(buffers, {type: 'application/binary'});\n",
              "      const a = document.createElement('a');\n",
              "      a.href = window.URL.createObjectURL(blob);\n",
              "      a.download = filename;\n",
              "      div.appendChild(a);\n",
              "      a.click();\n",
              "      div.remove();\n",
              "    }\n",
              "  "
            ]
          },
          "metadata": {}
        },
        {
          "output_type": "display_data",
          "data": {
            "text/plain": [
              "<IPython.core.display.Javascript object>"
            ],
            "application/javascript": [
              "download(\"download_ed3fd642-e041-46c0-bc93-5ca91470a294\", \"claenedManuPop.csv\", 30633)"
            ]
          },
          "metadata": {}
        }
      ]
    }
  ]
}