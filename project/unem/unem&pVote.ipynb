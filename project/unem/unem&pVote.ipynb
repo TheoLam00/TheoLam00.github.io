{
  "nbformat": 4,
  "nbformat_minor": 0,
  "metadata": {
    "colab": {
      "provenance": [],
      "authorship_tag": "ABX9TyON+SIXhUg+WB7jGEK+lMzh",
      "include_colab_link": true
    },
    "kernelspec": {
      "name": "python3",
      "display_name": "Python 3"
    },
    "language_info": {
      "name": "python"
    }
  },
  "cells": [
    {
      "cell_type": "markdown",
      "metadata": {
        "id": "view-in-github",
        "colab_type": "text"
      },
      "source": [
        "<a href=\"https://colab.research.google.com/github/TheoLam00/TheoLam00.github.io/blob/main/project/unem/unem%26pVote.ipynb\" target=\"_parent\"><img src=\"https://colab.research.google.com/assets/colab-badge.svg\" alt=\"Open In Colab\"/></a>"
      ]
    },
    {
      "cell_type": "code",
      "execution_count": null,
      "metadata": {
        "id": "Ek_vXTCc5rEF"
      },
      "outputs": [],
      "source": [
        "import pandas as pd\n",
        "import requests"
      ]
    },
    {
      "cell_type": "code",
      "source": [
        "import io\n",
        "umem_url = \"https://raw.githubusercontent.com/TheoLam00/TheoLam00.github.io/refs/heads/main/project/unem/Fred-Unemployment.csv\"\n",
        "pVote_url = \"https://raw.githubusercontent.com/TheoLam00/TheoLam00.github.io/refs/heads/main/project/swingState/pVoteDemRatio-long.csv\"\n",
        "unem_df = requests.get(umem_url).content\n",
        "unem_df = pd.read_csv(io.StringIO(unem_df.decode('utf-8')))\n",
        "pVote_df = requests.get(pVote_url).content\n",
        "pVote_df = pd.read_csv(io.StringIO(pVote_df.decode('utf-8')))"
      ],
      "metadata": {
        "id": "hZtlweYN6wiC"
      },
      "execution_count": null,
      "outputs": []
    },
    {
      "cell_type": "code",
      "source": [
        "#defind a swing index showing the leading percentage of canadiate\n",
        "pVote_df['swingIndex'] = abs(pVote_df['demRatio']-0.5)*100*2\n",
        "pVote_df = pVote_df[['year','state','swingIndex']]"
      ],
      "metadata": {
        "id": "mkhwAPkQ7xoZ"
      },
      "execution_count": null,
      "outputs": []
    },
    {
      "cell_type": "code",
      "source": [
        "#define election month\n",
        "year = []\n",
        "for i in range(int((2020-1976)/4)+1):\n",
        "  year.append(str(1976+4*i)+\"-11-01\")"
      ],
      "metadata": {
        "id": "94wTjA8ZAMZG"
      },
      "execution_count": null,
      "outputs": []
    },
    {
      "cell_type": "code",
      "source": [
        "#calculate average rate of n month before the election and filter the election month out\n",
        "unem_df = unem_df[['date','state','value']]\n",
        "unem_df['quater_avg'] = unem_df.value.rolling(window=3).mean()\n",
        "unem_df['halfYear_avg'] = unem_df.value.rolling(window=6).mean()\n",
        "unem_df = unem_df[unem_df['date'].isin(year)]\n",
        "unem_df['date'] = unem_df['date'].str.slice(0,4)\n",
        "unem_df = unem_df.rename(columns={'date':'year'})"
      ],
      "metadata": {
        "id": "whjSTaLzBRT0"
      },
      "execution_count": null,
      "outputs": []
    },
    {
      "cell_type": "code",
      "source": [
        "eCollege_url = \"https://raw.githubusercontent.com/TheoLam00/TheoLam00.github.io/refs/heads/main/project/pVote/USelectionCollege.csv\"\n",
        "eCollege_df = requests.get(eCollege_url).content\n",
        "eCollege_df = pd.read_csv(io.StringIO(eCollege_df.decode('utf-8')))"
      ],
      "metadata": {
        "id": "9kFyfU7pNPa-"
      },
      "execution_count": null,
      "outputs": []
    },
    {
      "cell_type": "code",
      "source": [
        "year = list(eCollege_df)\n",
        "year.pop(0)"
      ],
      "metadata": {
        "colab": {
          "base_uri": "https://localhost:8080/",
          "height": 36
        },
        "id": "aBr_MD3gUStr",
        "outputId": "9123d662-5aaa-42f9-ec0f-6f43301dba0d"
      },
      "execution_count": null,
      "outputs": [
        {
          "output_type": "execute_result",
          "data": {
            "text/plain": [
              "'State'"
            ],
            "application/vnd.google.colaboratory.intrinsic+json": {
              "type": "string"
            }
          },
          "metadata": {},
          "execution_count": 106
        }
      ]
    },
    {
      "cell_type": "code",
      "source": [
        "#eCollege from wide to long\n",
        "eCollege_df = pd.melt(eCollege_df,id_vars='State',value_vars=year)\n",
        "eCollege_df = eCollege_df.rename(columns={'State':'state','variable':'year','value':'college'})"
      ],
      "metadata": {
        "id": "X8Tb8XILTELl"
      },
      "execution_count": null,
      "outputs": []
    },
    {
      "cell_type": "code",
      "source": [
        "data = eCollege_df.merge(unem_df,on=['year','state'])\n",
        "data['year'] = pd.to_numeric(data['year'])\n",
        "data = data.merge(pVote_df,on=['year','state'])"
      ],
      "metadata": {
        "id": "VVlrBNDGWZEi"
      },
      "execution_count": null,
      "outputs": []
    },
    {
      "cell_type": "code",
      "source": [
        "data"
      ],
      "metadata": {
        "id": "IFFRpp6GbDhv",
        "outputId": "05f5131b-ad76-452b-ceba-a6df63d0213b",
        "colab": {
          "base_uri": "https://localhost:8080/",
          "height": 423
        }
      },
      "execution_count": null,
      "outputs": [
        {
          "output_type": "execute_result",
          "data": {
            "text/plain": [
              "             state  year  college  value  quater_avg  halfYear_avg  swingIndex\n",
              "0          Alabama  1976        9    7.0    6.900000      6.750000   13.333448\n",
              "1           Alaska  1976        3    8.6    8.300000      7.816667   23.783658\n",
              "2          Arizona  1976        6    9.4    9.500000      9.583333   17.226606\n",
              "3         Arkansas  1976        6    6.6    6.600000      6.700000   30.097703\n",
              "4       California  1976       45    9.3    9.266667      9.150000    1.835655\n",
              "..             ...   ...      ...    ...         ...           ...         ...\n",
              "607       Virginia  2020       13    5.3    5.900000      7.000000   10.309374\n",
              "608     Washington  2020       12    6.9    7.400000      8.816667   19.851006\n",
              "609  West Virginia  2020        5    6.5    6.966667      8.150000   39.597065\n",
              "610      Wisconsin  2020       10    5.0    5.333333      6.466667    0.638127\n",
              "611        Wyoming  2020        3    5.5    5.666667      6.216667   44.960869\n",
              "\n",
              "[612 rows x 7 columns]"
            ],
            "text/html": [
              "\n",
              "  <div id=\"df-301a7d83-d747-4fe3-851f-0535a0a3d6af\" class=\"colab-df-container\">\n",
              "    <div>\n",
              "<style scoped>\n",
              "    .dataframe tbody tr th:only-of-type {\n",
              "        vertical-align: middle;\n",
              "    }\n",
              "\n",
              "    .dataframe tbody tr th {\n",
              "        vertical-align: top;\n",
              "    }\n",
              "\n",
              "    .dataframe thead th {\n",
              "        text-align: right;\n",
              "    }\n",
              "</style>\n",
              "<table border=\"1\" class=\"dataframe\">\n",
              "  <thead>\n",
              "    <tr style=\"text-align: right;\">\n",
              "      <th></th>\n",
              "      <th>state</th>\n",
              "      <th>year</th>\n",
              "      <th>college</th>\n",
              "      <th>value</th>\n",
              "      <th>quater_avg</th>\n",
              "      <th>halfYear_avg</th>\n",
              "      <th>swingIndex</th>\n",
              "    </tr>\n",
              "  </thead>\n",
              "  <tbody>\n",
              "    <tr>\n",
              "      <th>0</th>\n",
              "      <td>Alabama</td>\n",
              "      <td>1976</td>\n",
              "      <td>9</td>\n",
              "      <td>7.0</td>\n",
              "      <td>6.900000</td>\n",
              "      <td>6.750000</td>\n",
              "      <td>13.333448</td>\n",
              "    </tr>\n",
              "    <tr>\n",
              "      <th>1</th>\n",
              "      <td>Alaska</td>\n",
              "      <td>1976</td>\n",
              "      <td>3</td>\n",
              "      <td>8.6</td>\n",
              "      <td>8.300000</td>\n",
              "      <td>7.816667</td>\n",
              "      <td>23.783658</td>\n",
              "    </tr>\n",
              "    <tr>\n",
              "      <th>2</th>\n",
              "      <td>Arizona</td>\n",
              "      <td>1976</td>\n",
              "      <td>6</td>\n",
              "      <td>9.4</td>\n",
              "      <td>9.500000</td>\n",
              "      <td>9.583333</td>\n",
              "      <td>17.226606</td>\n",
              "    </tr>\n",
              "    <tr>\n",
              "      <th>3</th>\n",
              "      <td>Arkansas</td>\n",
              "      <td>1976</td>\n",
              "      <td>6</td>\n",
              "      <td>6.6</td>\n",
              "      <td>6.600000</td>\n",
              "      <td>6.700000</td>\n",
              "      <td>30.097703</td>\n",
              "    </tr>\n",
              "    <tr>\n",
              "      <th>4</th>\n",
              "      <td>California</td>\n",
              "      <td>1976</td>\n",
              "      <td>45</td>\n",
              "      <td>9.3</td>\n",
              "      <td>9.266667</td>\n",
              "      <td>9.150000</td>\n",
              "      <td>1.835655</td>\n",
              "    </tr>\n",
              "    <tr>\n",
              "      <th>...</th>\n",
              "      <td>...</td>\n",
              "      <td>...</td>\n",
              "      <td>...</td>\n",
              "      <td>...</td>\n",
              "      <td>...</td>\n",
              "      <td>...</td>\n",
              "      <td>...</td>\n",
              "    </tr>\n",
              "    <tr>\n",
              "      <th>607</th>\n",
              "      <td>Virginia</td>\n",
              "      <td>2020</td>\n",
              "      <td>13</td>\n",
              "      <td>5.3</td>\n",
              "      <td>5.900000</td>\n",
              "      <td>7.000000</td>\n",
              "      <td>10.309374</td>\n",
              "    </tr>\n",
              "    <tr>\n",
              "      <th>608</th>\n",
              "      <td>Washington</td>\n",
              "      <td>2020</td>\n",
              "      <td>12</td>\n",
              "      <td>6.9</td>\n",
              "      <td>7.400000</td>\n",
              "      <td>8.816667</td>\n",
              "      <td>19.851006</td>\n",
              "    </tr>\n",
              "    <tr>\n",
              "      <th>609</th>\n",
              "      <td>West Virginia</td>\n",
              "      <td>2020</td>\n",
              "      <td>5</td>\n",
              "      <td>6.5</td>\n",
              "      <td>6.966667</td>\n",
              "      <td>8.150000</td>\n",
              "      <td>39.597065</td>\n",
              "    </tr>\n",
              "    <tr>\n",
              "      <th>610</th>\n",
              "      <td>Wisconsin</td>\n",
              "      <td>2020</td>\n",
              "      <td>10</td>\n",
              "      <td>5.0</td>\n",
              "      <td>5.333333</td>\n",
              "      <td>6.466667</td>\n",
              "      <td>0.638127</td>\n",
              "    </tr>\n",
              "    <tr>\n",
              "      <th>611</th>\n",
              "      <td>Wyoming</td>\n",
              "      <td>2020</td>\n",
              "      <td>3</td>\n",
              "      <td>5.5</td>\n",
              "      <td>5.666667</td>\n",
              "      <td>6.216667</td>\n",
              "      <td>44.960869</td>\n",
              "    </tr>\n",
              "  </tbody>\n",
              "</table>\n",
              "<p>612 rows × 7 columns</p>\n",
              "</div>\n",
              "    <div class=\"colab-df-buttons\">\n",
              "\n",
              "  <div class=\"colab-df-container\">\n",
              "    <button class=\"colab-df-convert\" onclick=\"convertToInteractive('df-301a7d83-d747-4fe3-851f-0535a0a3d6af')\"\n",
              "            title=\"Convert this dataframe to an interactive table.\"\n",
              "            style=\"display:none;\">\n",
              "\n",
              "  <svg xmlns=\"http://www.w3.org/2000/svg\" height=\"24px\" viewBox=\"0 -960 960 960\">\n",
              "    <path d=\"M120-120v-720h720v720H120Zm60-500h600v-160H180v160Zm220 220h160v-160H400v160Zm0 220h160v-160H400v160ZM180-400h160v-160H180v160Zm440 0h160v-160H620v160ZM180-180h160v-160H180v160Zm440 0h160v-160H620v160Z\"/>\n",
              "  </svg>\n",
              "    </button>\n",
              "\n",
              "  <style>\n",
              "    .colab-df-container {\n",
              "      display:flex;\n",
              "      gap: 12px;\n",
              "    }\n",
              "\n",
              "    .colab-df-convert {\n",
              "      background-color: #E8F0FE;\n",
              "      border: none;\n",
              "      border-radius: 50%;\n",
              "      cursor: pointer;\n",
              "      display: none;\n",
              "      fill: #1967D2;\n",
              "      height: 32px;\n",
              "      padding: 0 0 0 0;\n",
              "      width: 32px;\n",
              "    }\n",
              "\n",
              "    .colab-df-convert:hover {\n",
              "      background-color: #E2EBFA;\n",
              "      box-shadow: 0px 1px 2px rgba(60, 64, 67, 0.3), 0px 1px 3px 1px rgba(60, 64, 67, 0.15);\n",
              "      fill: #174EA6;\n",
              "    }\n",
              "\n",
              "    .colab-df-buttons div {\n",
              "      margin-bottom: 4px;\n",
              "    }\n",
              "\n",
              "    [theme=dark] .colab-df-convert {\n",
              "      background-color: #3B4455;\n",
              "      fill: #D2E3FC;\n",
              "    }\n",
              "\n",
              "    [theme=dark] .colab-df-convert:hover {\n",
              "      background-color: #434B5C;\n",
              "      box-shadow: 0px 1px 3px 1px rgba(0, 0, 0, 0.15);\n",
              "      filter: drop-shadow(0px 1px 2px rgba(0, 0, 0, 0.3));\n",
              "      fill: #FFFFFF;\n",
              "    }\n",
              "  </style>\n",
              "\n",
              "    <script>\n",
              "      const buttonEl =\n",
              "        document.querySelector('#df-301a7d83-d747-4fe3-851f-0535a0a3d6af button.colab-df-convert');\n",
              "      buttonEl.style.display =\n",
              "        google.colab.kernel.accessAllowed ? 'block' : 'none';\n",
              "\n",
              "      async function convertToInteractive(key) {\n",
              "        const element = document.querySelector('#df-301a7d83-d747-4fe3-851f-0535a0a3d6af');\n",
              "        const dataTable =\n",
              "          await google.colab.kernel.invokeFunction('convertToInteractive',\n",
              "                                                    [key], {});\n",
              "        if (!dataTable) return;\n",
              "\n",
              "        const docLinkHtml = 'Like what you see? Visit the ' +\n",
              "          '<a target=\"_blank\" href=https://colab.research.google.com/notebooks/data_table.ipynb>data table notebook</a>'\n",
              "          + ' to learn more about interactive tables.';\n",
              "        element.innerHTML = '';\n",
              "        dataTable['output_type'] = 'display_data';\n",
              "        await google.colab.output.renderOutput(dataTable, element);\n",
              "        const docLink = document.createElement('div');\n",
              "        docLink.innerHTML = docLinkHtml;\n",
              "        element.appendChild(docLink);\n",
              "      }\n",
              "    </script>\n",
              "  </div>\n",
              "\n",
              "\n",
              "<div id=\"df-e34bb0d5-b155-47b9-a41a-ae9427273631\">\n",
              "  <button class=\"colab-df-quickchart\" onclick=\"quickchart('df-e34bb0d5-b155-47b9-a41a-ae9427273631')\"\n",
              "            title=\"Suggest charts\"\n",
              "            style=\"display:none;\">\n",
              "\n",
              "<svg xmlns=\"http://www.w3.org/2000/svg\" height=\"24px\"viewBox=\"0 0 24 24\"\n",
              "     width=\"24px\">\n",
              "    <g>\n",
              "        <path d=\"M19 3H5c-1.1 0-2 .9-2 2v14c0 1.1.9 2 2 2h14c1.1 0 2-.9 2-2V5c0-1.1-.9-2-2-2zM9 17H7v-7h2v7zm4 0h-2V7h2v10zm4 0h-2v-4h2v4z\"/>\n",
              "    </g>\n",
              "</svg>\n",
              "  </button>\n",
              "\n",
              "<style>\n",
              "  .colab-df-quickchart {\n",
              "      --bg-color: #E8F0FE;\n",
              "      --fill-color: #1967D2;\n",
              "      --hover-bg-color: #E2EBFA;\n",
              "      --hover-fill-color: #174EA6;\n",
              "      --disabled-fill-color: #AAA;\n",
              "      --disabled-bg-color: #DDD;\n",
              "  }\n",
              "\n",
              "  [theme=dark] .colab-df-quickchart {\n",
              "      --bg-color: #3B4455;\n",
              "      --fill-color: #D2E3FC;\n",
              "      --hover-bg-color: #434B5C;\n",
              "      --hover-fill-color: #FFFFFF;\n",
              "      --disabled-bg-color: #3B4455;\n",
              "      --disabled-fill-color: #666;\n",
              "  }\n",
              "\n",
              "  .colab-df-quickchart {\n",
              "    background-color: var(--bg-color);\n",
              "    border: none;\n",
              "    border-radius: 50%;\n",
              "    cursor: pointer;\n",
              "    display: none;\n",
              "    fill: var(--fill-color);\n",
              "    height: 32px;\n",
              "    padding: 0;\n",
              "    width: 32px;\n",
              "  }\n",
              "\n",
              "  .colab-df-quickchart:hover {\n",
              "    background-color: var(--hover-bg-color);\n",
              "    box-shadow: 0 1px 2px rgba(60, 64, 67, 0.3), 0 1px 3px 1px rgba(60, 64, 67, 0.15);\n",
              "    fill: var(--button-hover-fill-color);\n",
              "  }\n",
              "\n",
              "  .colab-df-quickchart-complete:disabled,\n",
              "  .colab-df-quickchart-complete:disabled:hover {\n",
              "    background-color: var(--disabled-bg-color);\n",
              "    fill: var(--disabled-fill-color);\n",
              "    box-shadow: none;\n",
              "  }\n",
              "\n",
              "  .colab-df-spinner {\n",
              "    border: 2px solid var(--fill-color);\n",
              "    border-color: transparent;\n",
              "    border-bottom-color: var(--fill-color);\n",
              "    animation:\n",
              "      spin 1s steps(1) infinite;\n",
              "  }\n",
              "\n",
              "  @keyframes spin {\n",
              "    0% {\n",
              "      border-color: transparent;\n",
              "      border-bottom-color: var(--fill-color);\n",
              "      border-left-color: var(--fill-color);\n",
              "    }\n",
              "    20% {\n",
              "      border-color: transparent;\n",
              "      border-left-color: var(--fill-color);\n",
              "      border-top-color: var(--fill-color);\n",
              "    }\n",
              "    30% {\n",
              "      border-color: transparent;\n",
              "      border-left-color: var(--fill-color);\n",
              "      border-top-color: var(--fill-color);\n",
              "      border-right-color: var(--fill-color);\n",
              "    }\n",
              "    40% {\n",
              "      border-color: transparent;\n",
              "      border-right-color: var(--fill-color);\n",
              "      border-top-color: var(--fill-color);\n",
              "    }\n",
              "    60% {\n",
              "      border-color: transparent;\n",
              "      border-right-color: var(--fill-color);\n",
              "    }\n",
              "    80% {\n",
              "      border-color: transparent;\n",
              "      border-right-color: var(--fill-color);\n",
              "      border-bottom-color: var(--fill-color);\n",
              "    }\n",
              "    90% {\n",
              "      border-color: transparent;\n",
              "      border-bottom-color: var(--fill-color);\n",
              "    }\n",
              "  }\n",
              "</style>\n",
              "\n",
              "  <script>\n",
              "    async function quickchart(key) {\n",
              "      const quickchartButtonEl =\n",
              "        document.querySelector('#' + key + ' button');\n",
              "      quickchartButtonEl.disabled = true;  // To prevent multiple clicks.\n",
              "      quickchartButtonEl.classList.add('colab-df-spinner');\n",
              "      try {\n",
              "        const charts = await google.colab.kernel.invokeFunction(\n",
              "            'suggestCharts', [key], {});\n",
              "      } catch (error) {\n",
              "        console.error('Error during call to suggestCharts:', error);\n",
              "      }\n",
              "      quickchartButtonEl.classList.remove('colab-df-spinner');\n",
              "      quickchartButtonEl.classList.add('colab-df-quickchart-complete');\n",
              "    }\n",
              "    (() => {\n",
              "      let quickchartButtonEl =\n",
              "        document.querySelector('#df-e34bb0d5-b155-47b9-a41a-ae9427273631 button');\n",
              "      quickchartButtonEl.style.display =\n",
              "        google.colab.kernel.accessAllowed ? 'block' : 'none';\n",
              "    })();\n",
              "  </script>\n",
              "</div>\n",
              "    </div>\n",
              "  </div>\n"
            ],
            "application/vnd.google.colaboratory.intrinsic+json": {
              "type": "dataframe",
              "variable_name": "data",
              "summary": "{\n  \"name\": \"data\",\n  \"rows\": 612,\n  \"fields\": [\n    {\n      \"column\": \"state\",\n      \"properties\": {\n        \"dtype\": \"category\",\n        \"num_unique_values\": 51,\n        \"samples\": [\n          \"Texas\",\n          \"South Carolina\",\n          \"Virginia\"\n        ],\n        \"semantic_type\": \"\",\n        \"description\": \"\"\n      }\n    },\n    {\n      \"column\": \"year\",\n      \"properties\": {\n        \"dtype\": \"number\",\n        \"std\": 13,\n        \"min\": 1976,\n        \"max\": 2020,\n        \"num_unique_values\": 12,\n        \"samples\": [\n          2016,\n          2012,\n          1976\n        ],\n        \"semantic_type\": \"\",\n        \"description\": \"\"\n      }\n    },\n    {\n      \"column\": \"college\",\n      \"properties\": {\n        \"dtype\": \"number\",\n        \"std\": 9,\n        \"min\": 3,\n        \"max\": 55,\n        \"num_unique_values\": 36,\n        \"samples\": [\n          38,\n          21,\n          54\n        ],\n        \"semantic_type\": \"\",\n        \"description\": \"\"\n      }\n    },\n    {\n      \"column\": \"value\",\n      \"properties\": {\n        \"dtype\": \"number\",\n        \"std\": 1.88944282708047,\n        \"min\": 2.1,\n        \"max\": 14.3,\n        \"num_unique_values\": 84,\n        \"samples\": [\n          3.9,\n          7.0,\n          7.4\n        ],\n        \"semantic_type\": \"\",\n        \"description\": \"\"\n      }\n    },\n    {\n      \"column\": \"quater_avg\",\n      \"properties\": {\n        \"dtype\": \"number\",\n        \"std\": 1.9048389913204309,\n        \"min\": 2.1,\n        \"max\": 14.199999999999983,\n        \"num_unique_values\": 468,\n        \"samples\": [\n          7.166666666666665,\n          9.999999999999996,\n          6.166666666666658\n        ],\n        \"semantic_type\": \"\",\n        \"description\": \"\"\n      }\n    },\n    {\n      \"column\": \"halfYear_avg\",\n      \"properties\": {\n        \"dtype\": \"number\",\n        \"std\": 1.9937656016581518,\n        \"min\": 2.066666666666667,\n        \"max\": 14.016666666666666,\n        \"num_unique_values\": 440,\n        \"samples\": [\n          3.8333333333333344,\n          6.983333333333334,\n          5.666666666666667\n        ],\n        \"semantic_type\": \"\",\n        \"description\": \"\"\n      }\n    },\n    {\n      \"column\": \"swingIndex\",\n      \"properties\": {\n        \"dtype\": \"number\",\n        \"std\": 14.362234805218975,\n        \"min\": 0.009218816067124713,\n        \"max\": 91.39037668370815,\n        \"num_unique_values\": 612,\n        \"samples\": [\n          14.818289029262555,\n          7.6697890678775416,\n          18.93324911841894\n        ],\n        \"semantic_type\": \"\",\n        \"description\": \"\"\n      }\n    }\n  ]\n}"
            }
          },
          "metadata": {},
          "execution_count": 121
        }
      ]
    },
    {
      "cell_type": "code",
      "source": [
        "#download file\n",
        "from google.colab import files\n",
        "fileName = 'unem&pVote.csv'\n",
        "data.to_csv(fileName)\n",
        "files.download(fileName)"
      ],
      "metadata": {
        "id": "8aqxgCzectPN",
        "outputId": "4238bfd0-18a8-4008-b3f8-a8015c00683a",
        "colab": {
          "base_uri": "https://localhost:8080/",
          "height": 17
        }
      },
      "execution_count": null,
      "outputs": [
        {
          "output_type": "display_data",
          "data": {
            "text/plain": [
              "<IPython.core.display.Javascript object>"
            ],
            "application/javascript": [
              "\n",
              "    async function download(id, filename, size) {\n",
              "      if (!google.colab.kernel.accessAllowed) {\n",
              "        return;\n",
              "      }\n",
              "      const div = document.createElement('div');\n",
              "      const label = document.createElement('label');\n",
              "      label.textContent = `Downloading \"${filename}\": `;\n",
              "      div.appendChild(label);\n",
              "      const progress = document.createElement('progress');\n",
              "      progress.max = size;\n",
              "      div.appendChild(progress);\n",
              "      document.body.appendChild(div);\n",
              "\n",
              "      const buffers = [];\n",
              "      let downloaded = 0;\n",
              "\n",
              "      const channel = await google.colab.kernel.comms.open(id);\n",
              "      // Send a message to notify the kernel that we're ready.\n",
              "      channel.send({})\n",
              "\n",
              "      for await (const message of channel.messages) {\n",
              "        // Send a message to notify the kernel that we're ready.\n",
              "        channel.send({})\n",
              "        if (message.buffers) {\n",
              "          for (const buffer of message.buffers) {\n",
              "            buffers.push(buffer);\n",
              "            downloaded += buffer.byteLength;\n",
              "            progress.value = downloaded;\n",
              "          }\n",
              "        }\n",
              "      }\n",
              "      const blob = new Blob(buffers, {type: 'application/binary'});\n",
              "      const a = document.createElement('a');\n",
              "      a.href = window.URL.createObjectURL(blob);\n",
              "      a.download = filename;\n",
              "      div.appendChild(a);\n",
              "      a.click();\n",
              "      div.remove();\n",
              "    }\n",
              "  "
            ]
          },
          "metadata": {}
        },
        {
          "output_type": "display_data",
          "data": {
            "text/plain": [
              "<IPython.core.display.Javascript object>"
            ],
            "application/javascript": [
              "download(\"download_43ed97a8-989b-4e4f-a761-25de4bd4e43b\", \"unem&pVote.csv\", 44963)"
            ]
          },
          "metadata": {}
        }
      ]
    }
  ]
}