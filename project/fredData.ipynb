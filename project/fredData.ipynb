{
  "nbformat": 4,
  "nbformat_minor": 0,
  "metadata": {
    "colab": {
      "provenance": [],
      "authorship_tag": "ABX9TyMZHFcqUTEoeIKeEz1Uh6iL",
      "include_colab_link": true
    },
    "kernelspec": {
      "name": "python3",
      "display_name": "Python 3"
    },
    "language_info": {
      "name": "python"
    }
  },
  "cells": [
    {
      "cell_type": "markdown",
      "metadata": {
        "id": "view-in-github",
        "colab_type": "text"
      },
      "source": [
        "<a href=\"https://colab.research.google.com/github/TheoLam00/TheoLam00.github.io/blob/main/project/fredData.ipynb\" target=\"_parent\"><img src=\"https://colab.research.google.com/assets/colab-badge.svg\" alt=\"Open In Colab\"/></a>"
      ]
    },
    {
      "cell_type": "code",
      "execution_count": 7,
      "metadata": {
        "id": "MM7E61H5uDFW"
      },
      "outputs": [],
      "source": [
        "import pandas as pd\n",
        "import requests\n",
        "import json\n",
        "from google.colab import files"
      ]
    },
    {
      "cell_type": "code",
      "source": [
        "typeName = [\"UR\",\"Unemployment\"]\n",
        "states = [['AK','Alaska'],['AL','Alabama'],['AR','Arkansas'],['AZ','Arizona'],['CA','California'],['CO','Colorado'],['CT','Connecticut'],['DC','District of Columbia'],['DE','Delaware'],['FL','Florida'],['GA','Georgia'],['HI','Hawaii'],['IA','Iowa'],['ID','Idaho'],['IL','Illinois'],['IN','Indiana'],['KS','Kansas'],['KY','Kentucky'],['LA','Louisiana'],['MA','Massachusetts'],['MD','Maryland'],['ME','Maine'],['MI','Michigan'],['MN','Minnesota'],['MO','Missouri'],['MS','Mississippi'],['MT','Montana'],['NC','North Carolina'],['ND','North Dakota'],['NE','Nebraska'],['NH','New Hampshire'],['NJ','New Jersey'],['NM','New Mexico'],['NV','Nevada'],['NY','New York'],['OH','Ohio'],['OK','Oklahoma'],['OR','Oregon'],['PA','Pennsylvania'],['RI','Rhode Island'],['SC','South Carolina'],['SD','South Dakota'],['TN','Tennessee'],['TX','Texas'],['UT','Utah'],['VA','Virginia'],['VT','Vermont'],['WA','Washington'],['WI','Wisconsin'],['WV','West Virginia'],['WY','Wyoming']]\n",
        "series_id = []\n",
        "for i in states:\n",
        "  series_id.append(i[0]+typeName[0])"
      ],
      "metadata": {
        "id": "8D2Hx-Zxu9vs"
      },
      "execution_count": 9,
      "outputs": []
    },
    {
      "cell_type": "code",
      "source": [
        "url = []\n",
        "fred_series = \"https://api.stlouisfed.org/fred/series/observations?series_id={}&api_key=7b2a152fec92f95217bbfa064f5c5244&file_type=json\"\n",
        "for i in series_id:\n",
        "  url.append(fred_series.format(i))"
      ],
      "metadata": {
        "id": "lEgkm3kPvDwp"
      },
      "execution_count": 10,
      "outputs": []
    },
    {
      "cell_type": "code",
      "source": [
        "print(url)"
      ],
      "metadata": {
        "id": "DPQg8uxkwEVM",
        "outputId": "a5dd459c-85f3-47ec-8f63-74f90022dc1d",
        "colab": {
          "base_uri": "https://localhost:8080/"
        }
      },
      "execution_count": 5,
      "outputs": [
        {
          "output_type": "stream",
          "name": "stdout",
          "text": [
            "['https://api.stlouisfed.org/fred/series/observations?series_id=AKUR&api_key=7b2a152fec92f95217bbfa064f5c5244&file_type=json', 'https://api.stlouisfed.org/fred/series/observations?series_id=ALUR&api_key=7b2a152fec92f95217bbfa064f5c5244&file_type=json', 'https://api.stlouisfed.org/fred/series/observations?series_id=ARUR&api_key=7b2a152fec92f95217bbfa064f5c5244&file_type=json', 'https://api.stlouisfed.org/fred/series/observations?series_id=AZUR&api_key=7b2a152fec92f95217bbfa064f5c5244&file_type=json', 'https://api.stlouisfed.org/fred/series/observations?series_id=CAUR&api_key=7b2a152fec92f95217bbfa064f5c5244&file_type=json', 'https://api.stlouisfed.org/fred/series/observations?series_id=COUR&api_key=7b2a152fec92f95217bbfa064f5c5244&file_type=json', 'https://api.stlouisfed.org/fred/series/observations?series_id=CTUR&api_key=7b2a152fec92f95217bbfa064f5c5244&file_type=json', 'https://api.stlouisfed.org/fred/series/observations?series_id=DCUR&api_key=7b2a152fec92f95217bbfa064f5c5244&file_type=json', 'https://api.stlouisfed.org/fred/series/observations?series_id=DEUR&api_key=7b2a152fec92f95217bbfa064f5c5244&file_type=json', 'https://api.stlouisfed.org/fred/series/observations?series_id=FLUR&api_key=7b2a152fec92f95217bbfa064f5c5244&file_type=json', 'https://api.stlouisfed.org/fred/series/observations?series_id=GAUR&api_key=7b2a152fec92f95217bbfa064f5c5244&file_type=json', 'https://api.stlouisfed.org/fred/series/observations?series_id=HIUR&api_key=7b2a152fec92f95217bbfa064f5c5244&file_type=json', 'https://api.stlouisfed.org/fred/series/observations?series_id=IAUR&api_key=7b2a152fec92f95217bbfa064f5c5244&file_type=json', 'https://api.stlouisfed.org/fred/series/observations?series_id=IDUR&api_key=7b2a152fec92f95217bbfa064f5c5244&file_type=json', 'https://api.stlouisfed.org/fred/series/observations?series_id=ILUR&api_key=7b2a152fec92f95217bbfa064f5c5244&file_type=json', 'https://api.stlouisfed.org/fred/series/observations?series_id=INUR&api_key=7b2a152fec92f95217bbfa064f5c5244&file_type=json', 'https://api.stlouisfed.org/fred/series/observations?series_id=KSUR&api_key=7b2a152fec92f95217bbfa064f5c5244&file_type=json', 'https://api.stlouisfed.org/fred/series/observations?series_id=KYUR&api_key=7b2a152fec92f95217bbfa064f5c5244&file_type=json', 'https://api.stlouisfed.org/fred/series/observations?series_id=LAUR&api_key=7b2a152fec92f95217bbfa064f5c5244&file_type=json', 'https://api.stlouisfed.org/fred/series/observations?series_id=MAUR&api_key=7b2a152fec92f95217bbfa064f5c5244&file_type=json', 'https://api.stlouisfed.org/fred/series/observations?series_id=MDUR&api_key=7b2a152fec92f95217bbfa064f5c5244&file_type=json', 'https://api.stlouisfed.org/fred/series/observations?series_id=MEUR&api_key=7b2a152fec92f95217bbfa064f5c5244&file_type=json', 'https://api.stlouisfed.org/fred/series/observations?series_id=MIUR&api_key=7b2a152fec92f95217bbfa064f5c5244&file_type=json', 'https://api.stlouisfed.org/fred/series/observations?series_id=MNUR&api_key=7b2a152fec92f95217bbfa064f5c5244&file_type=json', 'https://api.stlouisfed.org/fred/series/observations?series_id=MOUR&api_key=7b2a152fec92f95217bbfa064f5c5244&file_type=json', 'https://api.stlouisfed.org/fred/series/observations?series_id=MSUR&api_key=7b2a152fec92f95217bbfa064f5c5244&file_type=json', 'https://api.stlouisfed.org/fred/series/observations?series_id=MTUR&api_key=7b2a152fec92f95217bbfa064f5c5244&file_type=json', 'https://api.stlouisfed.org/fred/series/observations?series_id=NCUR&api_key=7b2a152fec92f95217bbfa064f5c5244&file_type=json', 'https://api.stlouisfed.org/fred/series/observations?series_id=NDUR&api_key=7b2a152fec92f95217bbfa064f5c5244&file_type=json', 'https://api.stlouisfed.org/fred/series/observations?series_id=NEUR&api_key=7b2a152fec92f95217bbfa064f5c5244&file_type=json', 'https://api.stlouisfed.org/fred/series/observations?series_id=NHUR&api_key=7b2a152fec92f95217bbfa064f5c5244&file_type=json', 'https://api.stlouisfed.org/fred/series/observations?series_id=NJUR&api_key=7b2a152fec92f95217bbfa064f5c5244&file_type=json', 'https://api.stlouisfed.org/fred/series/observations?series_id=NMUR&api_key=7b2a152fec92f95217bbfa064f5c5244&file_type=json', 'https://api.stlouisfed.org/fred/series/observations?series_id=NVUR&api_key=7b2a152fec92f95217bbfa064f5c5244&file_type=json', 'https://api.stlouisfed.org/fred/series/observations?series_id=NYUR&api_key=7b2a152fec92f95217bbfa064f5c5244&file_type=json', 'https://api.stlouisfed.org/fred/series/observations?series_id=OHUR&api_key=7b2a152fec92f95217bbfa064f5c5244&file_type=json', 'https://api.stlouisfed.org/fred/series/observations?series_id=OKUR&api_key=7b2a152fec92f95217bbfa064f5c5244&file_type=json', 'https://api.stlouisfed.org/fred/series/observations?series_id=ORUR&api_key=7b2a152fec92f95217bbfa064f5c5244&file_type=json', 'https://api.stlouisfed.org/fred/series/observations?series_id=PAUR&api_key=7b2a152fec92f95217bbfa064f5c5244&file_type=json', 'https://api.stlouisfed.org/fred/series/observations?series_id=RIUR&api_key=7b2a152fec92f95217bbfa064f5c5244&file_type=json', 'https://api.stlouisfed.org/fred/series/observations?series_id=SCUR&api_key=7b2a152fec92f95217bbfa064f5c5244&file_type=json', 'https://api.stlouisfed.org/fred/series/observations?series_id=SDUR&api_key=7b2a152fec92f95217bbfa064f5c5244&file_type=json', 'https://api.stlouisfed.org/fred/series/observations?series_id=TNUR&api_key=7b2a152fec92f95217bbfa064f5c5244&file_type=json', 'https://api.stlouisfed.org/fred/series/observations?series_id=TXUR&api_key=7b2a152fec92f95217bbfa064f5c5244&file_type=json', 'https://api.stlouisfed.org/fred/series/observations?series_id=UTUR&api_key=7b2a152fec92f95217bbfa064f5c5244&file_type=json', 'https://api.stlouisfed.org/fred/series/observations?series_id=VAUR&api_key=7b2a152fec92f95217bbfa064f5c5244&file_type=json', 'https://api.stlouisfed.org/fred/series/observations?series_id=VTUR&api_key=7b2a152fec92f95217bbfa064f5c5244&file_type=json', 'https://api.stlouisfed.org/fred/series/observations?series_id=WAUR&api_key=7b2a152fec92f95217bbfa064f5c5244&file_type=json', 'https://api.stlouisfed.org/fred/series/observations?series_id=WIUR&api_key=7b2a152fec92f95217bbfa064f5c5244&file_type=json', 'https://api.stlouisfed.org/fred/series/observations?series_id=WVUR&api_key=7b2a152fec92f95217bbfa064f5c5244&file_type=json', 'https://api.stlouisfed.org/fred/series/observations?series_id=WYUR&api_key=7b2a152fec92f95217bbfa064f5c5244&file_type=json']\n"
          ]
        }
      ]
    },
    {
      "cell_type": "code",
      "source": [
        "allData = []\n",
        "for i in range(len(url)):\n",
        "  data = requests.get(url[i]).json().get(\"observations\")\n",
        "  stateName = states[i][1]\n",
        "  for j in range(len(data)):\n",
        "    data[j][\"state\"] = stateName\n",
        "  allData+=data\n",
        "\n",
        "fileName = \"Fred-\"+typeName[1]+\".json\"\n",
        "with open(fileName , 'w' , encoding = 'utf-8') as f:\n",
        "  json.dump(allData, f, ensure_ascii=False, indent=4)\n",
        "  files.download(fileName)"
      ],
      "metadata": {
        "id": "cACV2p_1wUc8",
        "outputId": "20f0998a-8869-4e43-d2ec-fac46bd04b56",
        "colab": {
          "base_uri": "https://localhost:8080/",
          "height": 17
        }
      },
      "execution_count": 19,
      "outputs": [
        {
          "output_type": "display_data",
          "data": {
            "text/plain": [
              "<IPython.core.display.Javascript object>"
            ],
            "application/javascript": [
              "\n",
              "    async function download(id, filename, size) {\n",
              "      if (!google.colab.kernel.accessAllowed) {\n",
              "        return;\n",
              "      }\n",
              "      const div = document.createElement('div');\n",
              "      const label = document.createElement('label');\n",
              "      label.textContent = `Downloading \"${filename}\": `;\n",
              "      div.appendChild(label);\n",
              "      const progress = document.createElement('progress');\n",
              "      progress.max = size;\n",
              "      div.appendChild(progress);\n",
              "      document.body.appendChild(div);\n",
              "\n",
              "      const buffers = [];\n",
              "      let downloaded = 0;\n",
              "\n",
              "      const channel = await google.colab.kernel.comms.open(id);\n",
              "      // Send a message to notify the kernel that we're ready.\n",
              "      channel.send({})\n",
              "\n",
              "      for await (const message of channel.messages) {\n",
              "        // Send a message to notify the kernel that we're ready.\n",
              "        channel.send({})\n",
              "        if (message.buffers) {\n",
              "          for (const buffer of message.buffers) {\n",
              "            buffers.push(buffer);\n",
              "            downloaded += buffer.byteLength;\n",
              "            progress.value = downloaded;\n",
              "          }\n",
              "        }\n",
              "      }\n",
              "      const blob = new Blob(buffers, {type: 'application/binary'});\n",
              "      const a = document.createElement('a');\n",
              "      a.href = window.URL.createObjectURL(blob);\n",
              "      a.download = filename;\n",
              "      div.appendChild(a);\n",
              "      a.click();\n",
              "      div.remove();\n",
              "    }\n",
              "  "
            ]
          },
          "metadata": {}
        },
        {
          "output_type": "display_data",
          "data": {
            "text/plain": [
              "<IPython.core.display.Javascript object>"
            ],
            "application/javascript": [
              "download(\"download_010a530c-6ebe-490e-86ba-54aa11d52819\", \"Fred-Unemployment.json\", 5191053)"
            ]
          },
          "metadata": {}
        }
      ]
    }
  ]
}