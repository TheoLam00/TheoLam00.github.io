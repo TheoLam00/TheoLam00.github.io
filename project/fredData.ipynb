{
  "nbformat": 4,
  "nbformat_minor": 0,
  "metadata": {
    "colab": {
      "provenance": [],
      "authorship_tag": "ABX9TyOEKwsE3J0XYdEg68YfpDEo",
      "include_colab_link": true
    },
    "kernelspec": {
      "name": "python3",
      "display_name": "Python 3"
    },
    "language_info": {
      "name": "python"
    }
  },
  "cells": [
    {
      "cell_type": "markdown",
      "metadata": {
        "id": "view-in-github",
        "colab_type": "text"
      },
      "source": [
        "<a href=\"https://colab.research.google.com/github/TheoLam00/TheoLam00.github.io/blob/main/project/fredData.ipynb\" target=\"_parent\"><img src=\"https://colab.research.google.com/assets/colab-badge.svg\" alt=\"Open In Colab\"/></a>"
      ]
    },
    {
      "cell_type": "code",
      "execution_count": 20,
      "metadata": {
        "id": "MM7E61H5uDFW"
      },
      "outputs": [],
      "source": [
        "import pandas as pd\n",
        "import requests\n",
        "import json"
      ]
    },
    {
      "cell_type": "code",
      "source": [
        "series_id = [\"ALUR\"]"
      ],
      "metadata": {
        "id": "8D2Hx-Zxu9vs"
      },
      "execution_count": 21,
      "outputs": []
    },
    {
      "cell_type": "code",
      "source": [
        "url = []\n",
        "cat = []\n",
        "fred_series = \"https://api.stlouisfed.org/fred/series/observations?series_id={}&api_key=7b2a152fec92f95217bbfa064f5c5244&file_type=json\"\n",
        "fred_cat = \"https://api.stlouisfed.org/fred/series/categories?series_id={}&api_key=7b2a152fec92f95217bbfa064f5c5244&file_type=json\"\n",
        "for i in series_id:\n",
        "  url.append(fred_series.format(i))\n",
        "  cat.append(fred_cat.format(i))"
      ],
      "metadata": {
        "id": "lEgkm3kPvDwp"
      },
      "execution_count": 24,
      "outputs": []
    },
    {
      "cell_type": "code",
      "source": [
        "print(url)\n",
        "print(cat)"
      ],
      "metadata": {
        "id": "DPQg8uxkwEVM",
        "outputId": "ca7a37ab-6c59-44e7-96da-87f925c250ca",
        "colab": {
          "base_uri": "https://localhost:8080/"
        }
      },
      "execution_count": 25,
      "outputs": [
        {
          "output_type": "stream",
          "name": "stdout",
          "text": [
            "['https://api.stlouisfed.org/fred/series/observations?series_id=ALUR&api_key=7b2a152fec92f95217bbfa064f5c5244&file_type=json']\n",
            "['https://api.stlouisfed.org/fred/series/categories?series_id=ALUR&api_key=7b2a152fec92f95217bbfa064f5c5244&file_type=json']\n"
          ]
        }
      ]
    },
    {
      "cell_type": "code",
      "source": [
        "typeName = \"Umemployment\"\n",
        "for i in range(len(url)):\n",
        "  fileName = \"Fred-\"+typeName+'-'+requests.get(cat[i]).json().get(\"categories\")[0].get(\"name\")+\".json\"\n",
        "  data = requests.get(url[i]).json()\n",
        "  print(fileName)"
      ],
      "metadata": {
        "id": "cACV2p_1wUc8",
        "outputId": "65e3d56f-e448-4b34-964a-4e6034fdf662",
        "colab": {
          "base_uri": "https://localhost:8080/"
        }
      },
      "execution_count": 33,
      "outputs": [
        {
          "output_type": "stream",
          "name": "stdout",
          "text": [
            "Fred-Umemployment-Alabama.json\n"
          ]
        }
      ]
    }
  ]
}