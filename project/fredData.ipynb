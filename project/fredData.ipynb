{
  "nbformat": 4,
  "nbformat_minor": 0,
  "metadata": {
    "colab": {
      "provenance": [],
      "authorship_tag": "ABX9TyOddgXpl5wkGFOKzoN6DOmg",
      "include_colab_link": true
    },
    "kernelspec": {
      "name": "python3",
      "display_name": "Python 3"
    },
    "language_info": {
      "name": "python"
    }
  },
  "cells": [
    {
      "cell_type": "markdown",
      "metadata": {
        "id": "view-in-github",
        "colab_type": "text"
      },
      "source": [
        "<a href=\"https://colab.research.google.com/github/TheoLam00/TheoLam00.github.io/blob/main/project/fredData.ipynb\" target=\"_parent\"><img src=\"https://colab.research.google.com/assets/colab-badge.svg\" alt=\"Open In Colab\"/></a>"
      ]
    },
    {
      "cell_type": "code",
      "execution_count": 34,
      "metadata": {
        "id": "MM7E61H5uDFW"
      },
      "outputs": [],
      "source": [
        "import pandas as pd\n",
        "import requests\n",
        "import json\n",
        "from google.colab import files"
      ]
    },
    {
      "cell_type": "code",
      "source": [
        "series_id = [\"ALUR\"]"
      ],
      "metadata": {
        "id": "8D2Hx-Zxu9vs"
      },
      "execution_count": 21,
      "outputs": []
    },
    {
      "cell_type": "code",
      "source": [
        "url = []\n",
        "cat = []\n",
        "fred_series = \"https://api.stlouisfed.org/fred/series/observations?series_id={}&api_key=7b2a152fec92f95217bbfa064f5c5244&file_type=json\"\n",
        "fred_cat = \"https://api.stlouisfed.org/fred/series/categories?series_id={}&api_key=7b2a152fec92f95217bbfa064f5c5244&file_type=json\"\n",
        "for i in series_id:\n",
        "  url.append(fred_series.format(i))\n",
        "  cat.append(fred_cat.format(i))"
      ],
      "metadata": {
        "id": "lEgkm3kPvDwp"
      },
      "execution_count": 24,
      "outputs": []
    },
    {
      "cell_type": "code",
      "source": [
        "print(url)\n",
        "print(cat)"
      ],
      "metadata": {
        "id": "DPQg8uxkwEVM",
        "outputId": "ca7a37ab-6c59-44e7-96da-87f925c250ca",
        "colab": {
          "base_uri": "https://localhost:8080/"
        }
      },
      "execution_count": 25,
      "outputs": [
        {
          "output_type": "stream",
          "name": "stdout",
          "text": [
            "['https://api.stlouisfed.org/fred/series/observations?series_id=ALUR&api_key=7b2a152fec92f95217bbfa064f5c5244&file_type=json']\n",
            "['https://api.stlouisfed.org/fred/series/categories?series_id=ALUR&api_key=7b2a152fec92f95217bbfa064f5c5244&file_type=json']\n"
          ]
        }
      ]
    },
    {
      "cell_type": "code",
      "source": [
        "typeName = \"Umemployment\"\n",
        "for i in range(len(url)):\n",
        "  fileName = \"Fred-\"+typeName+'-'+requests.get(cat[i]).json().get(\"categories\")[0].get(\"name\")+\".json\"\n",
        "  data = requests.get(url[i]).json()\n",
        "  with open(fileName , 'w' , encoding = 'utf-8') as f:\n",
        "    json.dump(data, f, ensure_ascii=False, indent=4)\n",
        "  files.download(fileName)"
      ],
      "metadata": {
        "id": "cACV2p_1wUc8",
        "outputId": "de498156-f0a4-4b1b-b134-bf2ea8c0183e",
        "colab": {
          "base_uri": "https://localhost:8080/",
          "height": 17
        }
      },
      "execution_count": 35,
      "outputs": [
        {
          "output_type": "display_data",
          "data": {
            "text/plain": [
              "<IPython.core.display.Javascript object>"
            ],
            "application/javascript": [
              "\n",
              "    async function download(id, filename, size) {\n",
              "      if (!google.colab.kernel.accessAllowed) {\n",
              "        return;\n",
              "      }\n",
              "      const div = document.createElement('div');\n",
              "      const label = document.createElement('label');\n",
              "      label.textContent = `Downloading \"${filename}\": `;\n",
              "      div.appendChild(label);\n",
              "      const progress = document.createElement('progress');\n",
              "      progress.max = size;\n",
              "      div.appendChild(progress);\n",
              "      document.body.appendChild(div);\n",
              "\n",
              "      const buffers = [];\n",
              "      let downloaded = 0;\n",
              "\n",
              "      const channel = await google.colab.kernel.comms.open(id);\n",
              "      // Send a message to notify the kernel that we're ready.\n",
              "      channel.send({})\n",
              "\n",
              "      for await (const message of channel.messages) {\n",
              "        // Send a message to notify the kernel that we're ready.\n",
              "        channel.send({})\n",
              "        if (message.buffers) {\n",
              "          for (const buffer of message.buffers) {\n",
              "            buffers.push(buffer);\n",
              "            downloaded += buffer.byteLength;\n",
              "            progress.value = downloaded;\n",
              "          }\n",
              "        }\n",
              "      }\n",
              "      const blob = new Blob(buffers, {type: 'application/binary'});\n",
              "      const a = document.createElement('a');\n",
              "      a.href = window.URL.createObjectURL(blob);\n",
              "      a.download = filename;\n",
              "      div.appendChild(a);\n",
              "      a.click();\n",
              "      div.remove();\n",
              "    }\n",
              "  "
            ]
          },
          "metadata": {}
        },
        {
          "output_type": "display_data",
          "data": {
            "text/plain": [
              "<IPython.core.display.Javascript object>"
            ],
            "application/javascript": [
              "download(\"download_83e1da2f-9b18-44b1-8b5f-e4664f76c4e2\", \"Fred-Umemployment-Alabama.json\", 98916)"
            ]
          },
          "metadata": {}
        }
      ]
    }
  ]
}