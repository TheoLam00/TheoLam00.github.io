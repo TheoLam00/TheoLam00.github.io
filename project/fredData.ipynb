{
  "nbformat": 4,
  "nbformat_minor": 0,
  "metadata": {
    "colab": {
      "provenance": [],
      "authorship_tag": "ABX9TyNIhFL6ltguACLGNcxSYNLS",
      "include_colab_link": true
    },
    "kernelspec": {
      "name": "python3",
      "display_name": "Python 3"
    },
    "language_info": {
      "name": "python"
    }
  },
  "cells": [
    {
      "cell_type": "markdown",
      "metadata": {
        "id": "view-in-github",
        "colab_type": "text"
      },
      "source": [
        "<a href=\"https://colab.research.google.com/github/TheoLam00/TheoLam00.github.io/blob/main/project/fredData.ipynb\" target=\"_parent\"><img src=\"https://colab.research.google.com/assets/colab-badge.svg\" alt=\"Open In Colab\"/></a>"
      ]
    },
    {
      "cell_type": "code",
      "execution_count": 2,
      "metadata": {
        "id": "MM7E61H5uDFW"
      },
      "outputs": [],
      "source": [
        "import pandas as pd\n",
        "import requests\n",
        "import json"
      ]
    },
    {
      "cell_type": "code",
      "source": [
        "cat_id = [125]"
      ],
      "metadata": {
        "id": "8D2Hx-Zxu9vs"
      },
      "execution_count": 3,
      "outputs": []
    },
    {
      "cell_type": "code",
      "source": [
        "url = []\n",
        "cat = []\n",
        "fred_series = \"https://api.stlouisfed.org/fred/category/series?category_id={}&api_key=7b2a152fec92f95217bbfa064f5c5244&file_type=json\"\n",
        "fred_cat = \"https://api.stlouisfed.org/fred/category?category_id={}&api_key=7b2a152fec92f95217bbfa064f5c5244&file_type=json\"\n",
        "for i in cat_id:\n",
        "  cat.append(fred_cat.format(i))\n",
        "  url.append(fred_series.format(i))"
      ],
      "metadata": {
        "id": "lEgkm3kPvDwp"
      },
      "execution_count": 5,
      "outputs": []
    },
    {
      "cell_type": "code",
      "source": [
        "print(cat)\n",
        "print(url)"
      ],
      "metadata": {
        "id": "DPQg8uxkwEVM",
        "outputId": "7ffe98b8-f5da-4c06-f7a3-6d4f628288d5",
        "colab": {
          "base_uri": "https://localhost:8080/"
        }
      },
      "execution_count": 6,
      "outputs": [
        {
          "output_type": "stream",
          "name": "stdout",
          "text": [
            "['https://api.stlouisfed.org/fred/category?category_id=125&api_key=7b2a152fec92f95217bbfa064f5c5244&file_type=json']\n",
            "['https://api.stlouisfed.org/fred/category/series?category_id=125&api_key=7b2a152fec92f95217bbfa064f5c5244&file_type=json']\n"
          ]
        }
      ]
    },
    {
      "cell_type": "code",
      "source": [
        "for i in range(len(url)):\n",
        "  fileName = requests.get(cat[i]).json().get(\"categories\")[0].get(\"name\")\n",
        "  data = requests.get(url[i]).json()"
      ],
      "metadata": {
        "id": "cACV2p_1wUc8",
        "outputId": "111ccc16-a849-4990-aabd-efd13ede7a7b",
        "colab": {
          "base_uri": "https://localhost:8080/"
        }
      },
      "execution_count": 18,
      "outputs": [
        {
          "output_type": "stream",
          "name": "stdout",
          "text": [
            "Trade Balance\n"
          ]
        }
      ]
    }
  ]
}